{
 "cells": [
  {
   "cell_type": "code",
   "execution_count": 1,
   "metadata": {},
   "outputs": [
    {
     "name": "stdout",
     "output_type": "stream",
     "text": [
      "Model loaded\n"
     ]
    }
   ],
   "source": [
    "import os\n",
    "import gradio as gr\n",
    "import tensorflow as tf\n",
    "import numpy as np\n",
    "\n",
    "# model_filename = \"basic_fully_connected_mnist\"\n",
    "model_filename = \"mnist_cnn\"\n",
    "\n",
    "def load_model(filename, filepath):\n",
    "    model_fname = filename\n",
    "    my_wd = filepath\n",
    "\n",
    "    return(tf.keras.models.load_model(os.path.join(my_wd, model_fname)))\n",
    "\n",
    "mnist_cnn = load_model(model_filename, os.getcwd())\n",
    "\n",
    "print(\"Model loaded\")"
   ]
  },
  {
   "cell_type": "markdown",
   "metadata": {},
   "source": [
    "### Add our image cleaning functions to fix the sketchpad's image dimensions"
   ]
  },
  {
   "cell_type": "code",
   "execution_count": 2,
   "metadata": {},
   "outputs": [],
   "source": [
    "def reshape_for_cnn(image):\n",
    "    image = image/255.0\n",
    "    image = image.reshape(28, 28, 1)\n",
    "    image = (np.expand_dims(image,0)) # add a batch dim\n",
    "    print(image.shape)\n",
    "    return(image)\n",
    "\n",
    "# now get the model to recognise new input images\n",
    "def recognise_image(image):\n",
    "    image = reshape_for_cnn(image)\n",
    "    prediction = mnist_cnn.predict(image)\n",
    "    return {str(i): float(prediction[0][i]) for i in range(len(prediction[0]))}\n",
    "\n",
    "output_component = gr.outputs.Label(num_top_classes=3) # need to adjust this..."
   ]
  },
  {
   "cell_type": "markdown",
   "metadata": {},
   "source": [
    "### Create our GUI interface and launch in jlab\n",
    "\n",
    "The GUI breaks if uploaded directly to github. If you run the code in jlab, everything works as expected."
   ]
  },
  {
   "cell_type": "code",
   "execution_count": 6,
   "metadata": {},
   "outputs": [],
   "source": [
    "mnist_gui = gr.Interface(fn=recognise_image, \n",
    "             inputs=\"sketchpad\", \n",
    "             outputs=output_component,\n",
    "             title=\"MNIST CNN Sketchpad\",\n",
    "             description=\"Draw a number 0 through 9 on the sketchpad, and click submit to see the model's predictions. Model trained on the MNIST dataset.\",\n",
    "             thumbnail=\"https://raw.githubusercontent.com/gradio-app/real-time-mnist/master/thumbnail2.png\").launch();\n",
    "\n",
    "mnist_gui.launch(debug = 'True')"
   ]
  }
 ],
 "metadata": {
  "interpreter": {
   "hash": "5b7f2f0dd68290ee9c7d7ac9e367b33e829ca3b9c29d380208e4e57088056da1"
  },
  "kernelspec": {
   "display_name": "Python 3.9.7 64-bit ('venv': venv)",
   "name": "python3"
  },
  "language_info": {
   "codemirror_mode": {
    "name": "ipython",
    "version": 3
   },
   "file_extension": ".py",
   "mimetype": "text/x-python",
   "name": "python",
   "nbconvert_exporter": "python",
   "pygments_lexer": "ipython3",
   "version": "3.9.7"
  },
  "orig_nbformat": 4
 },
 "nbformat": 4,
 "nbformat_minor": 2
}
